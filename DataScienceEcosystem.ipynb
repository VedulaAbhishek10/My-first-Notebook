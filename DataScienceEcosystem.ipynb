{
 "cells": [
  {
   "cell_type": "markdown",
   "id": "a0d65355-ea78-4cd2-8946-ba487dfd6b69",
   "metadata": {},
   "source": [
    "# Data Science Tools and Ecosystem"
   ]
  },
  {
   "cell_type": "markdown",
   "id": "a0226136-7295-4897-942f-efe7dacbdc20",
   "metadata": {},
   "source": [
    "In this notebook, Data Science Tolls and Ecosystem are summarized."
   ]
  },
  {
   "cell_type": "markdown",
   "id": "b283acec-7dbd-4c13-b293-126a933f9164",
   "metadata": {},
   "source": [
    "**Objectives:**\n",
    "- Languages used by data scientists\n",
    "- Libraries used by data scientists\n",
    "- Data science tools\n",
    "- Evaluating arithematic expressions on python\n",
    "- Converting minutes to hours"
   ]
  },
  {
   "cell_type": "markdown",
   "id": "c0cfcf18-0350-4a9c-856c-2f6dba5fcd90",
   "metadata": {},
   "source": [
    "Some of the popular languages that Data Scientists use are:"
   ]
  },
  {
   "cell_type": "markdown",
   "id": "55204c6c-7ccc-44ca-906e-1f46086fc4f7",
   "metadata": {},
   "source": [
    "1. Python\n",
    "2. R\n",
    "3. SQL"
   ]
  },
  {
   "cell_type": "markdown",
   "id": "81d4707f-130b-4ff7-ace3-8e0586b868bf",
   "metadata": {},
   "source": [
    "Some of the commonly used libraries used by Data Scientists include:"
   ]
  },
  {
   "cell_type": "markdown",
   "id": "8ac51cbf-47f9-471b-b946-31897c3ff335",
   "metadata": {},
   "source": [
    "1. Matplotlib\n",
    "2. Tensorflow\n",
    "3. Pandas"
   ]
  },
  {
   "cell_type": "markdown",
   "id": "78df53b3-a71d-4094-bb07-dfd15f8e3872",
   "metadata": {},
   "source": [
    "|Data Science Tools|\n",
    "|------------------| \n",
    "|Jupiter Notebook  |\n",
    "|R Studio          |\n",
    "|Apache Zeppelin   |"
   ]
  },
  {
   "cell_type": "markdown",
   "id": "c161f986-8e23-4318-a0a6-8719893db5c0",
   "metadata": {},
   "source": [
    "### Below are a few examples of evaluating arithmetic expressions in Python"
   ]
  },
  {
   "cell_type": "code",
   "execution_count": 6,
   "id": "3a9560b2-937f-42ea-a38e-fef7d573e9d9",
   "metadata": {},
   "outputs": [
    {
     "data": {
      "text/plain": [
       "17"
      ]
     },
     "execution_count": 6,
     "metadata": {},
     "output_type": "execute_result"
    }
   ],
   "source": [
    "# This a simple arithmetic expression to mutiply then add integers\n",
    "(3*4)+5"
   ]
  },
  {
   "cell_type": "code",
   "execution_count": 7,
   "id": "6721d002-dce4-41da-a048-ec64c5cd5004",
   "metadata": {},
   "outputs": [
    {
     "data": {
      "text/plain": [
       "3.3333333333333335"
      ]
     },
     "execution_count": 7,
     "metadata": {},
     "output_type": "execute_result"
    }
   ],
   "source": [
    "#This will convert 200 minutes to hours by diving by 60\n",
    "minutes = 200\n",
    "hours = minutes / 60\n",
    "hours"
   ]
  },
  {
   "cell_type": "markdown",
   "id": "e3ffd1b2-af56-4773-9af5-d59260474a7b",
   "metadata": {},
   "source": [
    "## Author\n",
    "Abhishek Vedula"
   ]
  }
 ],
 "metadata": {
  "kernelspec": {
   "display_name": "Python 3 (ipykernel)",
   "language": "python",
   "name": "python3"
  },
  "language_info": {
   "codemirror_mode": {
    "name": "ipython",
    "version": 3
   },
   "file_extension": ".py",
   "mimetype": "text/x-python",
   "name": "python",
   "nbconvert_exporter": "python",
   "pygments_lexer": "ipython3",
   "version": "3.12.7"
  }
 },
 "nbformat": 4,
 "nbformat_minor": 5
}
